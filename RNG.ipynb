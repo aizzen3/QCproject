{
 "cells": [
  {
   "cell_type": "code",
   "execution_count": 1,
   "id": "0ba3b2fd",
   "metadata": {},
   "outputs": [
    {
     "name": "stdout",
     "output_type": "stream",
     "text": [
      "5\n"
     ]
    }
   ],
   "source": [
    "import numpy as np\n",
    "import hashlib\n",
    "\n",
    "# --- Von Neumann extractor ---\n",
    "def von_neumann_extraction(folded_bits):\n",
    "    extracted_bits = []\n",
    "    for i in range(0, len(folded_bits) - 1, 2):\n",
    "        pair = folded_bits[i], folded_bits[i + 1]\n",
    "        if pair == (0,1) or pair == (1,0):\n",
    "            extracted_bits.append(folded_bits[i])\n",
    "    return np.array(extracted_bits)\n",
    "\n",
    "# --- Convert bits to bytes ---\n",
    "def bits_to_bytes(bits): \n",
    "    pad_len = (8 - len(bits) % 8) % 8\n",
    "    bits_padded = np.concatenate((bits, np.zeros(pad_len, dtype=int)))\n",
    "    return np.packbits(bits_padded).tobytes()\n",
    "\n",
    "# --- SHA256 extractor ---\n",
    "def sha256_extractor(bits):\n",
    "    block_size = 256\n",
    "    final_bits = []\n",
    "    for i in range(0, len(bits), block_size):\n",
    "        block = bits[i:i + block_size]\n",
    "        if len(block) < block_size:\n",
    "            break\n",
    "        hash_bytes = hashlib.sha256(bits_to_bytes(block)).digest()\n",
    "        hash_bits = np.unpackbits(np.frombuffer(hash_bytes, dtype=np.uint8))\n",
    "        final_bits.extend(hash_bits[:block_size])\n",
    "    return np.array(final_bits)\n",
    "\n",
    "# --- Generate raw bits from noise ---\n",
    "def generate_bits():\n",
    "    dt = 0.001\n",
    "    t = np.arange(0, 15000, dt) \n",
    "    f = 2.5 * np.random.randn(len(t))\n",
    "    n = len(t)\n",
    "    fhat = np.fft.fft(f, n)\n",
    "    PSD = fhat * np.conj(fhat) / n\n",
    "\n",
    "    threshold = np.median(PSD)\n",
    "    bits = (PSD > threshold).astype(int)\n",
    "    half = len(bits) // 2\n",
    "    folded_bits = bits[:half] ^ bits[half:half*2]\n",
    "\n",
    "    return von_neumann_extraction(folded_bits)\n",
    "\n",
    "# --- Generate a single digit (0-9) ---\n",
    "def generate_single_digit():\n",
    "    raw_bits = generate_bits()\n",
    "    final_bits = sha256_extractor(raw_bits)\n",
    "\n",
    "    # Take enough bits to cover 0-9 (4 bits is enough, 2^4 = 16)\n",
    "    if len(final_bits) < 4:\n",
    "        raise ValueError(\"Not enough bits generated.\")\n",
    "\n",
    "    rand_int = int(''.join(map(str, final_bits[:4])), 2)\n",
    "    single_digit = rand_int % 10\n",
    "    return single_digit\n",
    "\n",
    "# --- Main ---\n",
    "if __name__ == \"__main__\":\n",
    "    digit = generate_single_digit()\n",
    "    print(digit)"
   ]
  }
 ],
 "metadata": {
  "kernelspec": {
   "display_name": "qcproject",
   "language": "python",
   "name": "python3"
  },
  "language_info": {
   "codemirror_mode": {
    "name": "ipython",
    "version": 3
   },
   "file_extension": ".py",
   "mimetype": "text/x-python",
   "name": "python",
   "nbconvert_exporter": "python",
   "pygments_lexer": "ipython3",
   "version": "3.13.3"
  }
 },
 "nbformat": 4,
 "nbformat_minor": 5
}
