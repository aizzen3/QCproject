{
 "cells": [
  {
   "cell_type": "code",
   "execution_count": null,
   "id": "3a9a434f",
   "metadata": {},
   "outputs": [],
   "source": [
    "\n",
    "import qiskit_mps_initializer"
   ]
  }
 ],
 "metadata": {
  "kernelspec": {
   "display_name": "qcproject",
   "language": "python",
   "name": "python3"
  },
  "language_info": {
   "codemirror_mode": {
    "name": "ipython",
    "version": 3
   },
   "file_extension": ".py",
   "mimetype": "text/x-python",
   "name": "python",
   "nbconvert_exporter": "python",
   "pygments_lexer": "ipython3",
   "version": "3.13.3"
  }
 },
 "nbformat": 4,
 "nbformat_minor": 5
}
